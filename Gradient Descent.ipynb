{
 "cells": [
  {
   "cell_type": "markdown",
   "metadata": {},
   "source": [
    "# Gradient Descent with Linear Regression\n",
    "-----------------------------------------------------------------------\n",
    "\n",
    "Gradient descent is name for a generic class of computer algorithms which minimize a function.\n",
    "\n",
    "These algorithm achieve this end by starting with initial parameter values and iteratively moving towards set of parameters values that minimize some cose function or metric -- that's the descent part.\n",
    "\n",
    "The movement towards best-fit is achieved by taking the derivative of the variable or variables involved, towards the direction with the lowest(calculus-defined) gradient -- that's the gradient part."
   ]
  },
  {
   "cell_type": "code",
   "execution_count": 8,
   "metadata": {},
   "outputs": [
    {
     "data": {
      "text/html": [
       "<img src=\"https://miro.medium.com/max/900/1*G3evFxIAlDchOx5Wl7bV5g.png\"/>"
      ],
      "text/plain": [
       "<IPython.core.display.Image object>"
      ]
     },
     "execution_count": 8,
     "metadata": {},
     "output_type": "execute_result"
    }
   ],
   "source": [
    "from IPython.display import Image\n",
    "Image(url=\"https://miro.medium.com/max/900/1*G3evFxIAlDchOx5Wl7bV5g.png\")"
   ]
  },
  {
   "cell_type": "code",
   "execution_count": 37,
   "metadata": {},
   "outputs": [],
   "source": [
    "import numpy as np\n",
    "import matplotlib.pyplot as plt\n",
    "import pandas as pd\n",
    "import time \n",
    "\n",
    "#Gradient Descent class for linear Regression\n",
    "class GradientDescentLinearRegression:\n",
    "    def __init__(self, learning_rate=0.01, iterations=1000):\n",
    "        self.learning_rate, self.iterations = learning_rate, iterations\n",
    "    \n",
    "    \n",
    "    def fit(self, X, y):\n",
    "        b0 = 0\n",
    "        b1 = 0\n",
    "        n = X.shape[0]\n",
    "        for _ in range(self.iterations):\n",
    "            b0_deri = np.sum(b1*X + b0 - y) / n\n",
    "            b1_deri = np.sum(X*((b1*X + b0) - y)) / n\n",
    "            b0 = b0 - (self.learning_rate * b0_deri)\n",
    "            b1 = b1 - (self.learning_rate * b1_deri)\n",
    "        self.b1, self.b0 = b1, b0\n",
    "        \n",
    "        \n",
    "    def predict(self, X):\n",
    "        return self.b1*X + self.b0\n",
    "    \n",
    "    \n",
    "    # Calculating Root Mean Squares Error\n",
    "    def rmse(self, X):\n",
    "        rmse = 0\n",
    "        n = X.shape[0]\n",
    "        #print(n)\n",
    "        for i in range(n):\n",
    "            y_pred = clf.predict(X[i])\n",
    "            rmse += (y_pred - y[i]) ** 2\n",
    "        rmse = np.sqrt(rmse/n)\n",
    "        return rmse"
   ]
  },
  {
   "cell_type": "code",
   "execution_count": 35,
   "metadata": {},
   "outputs": [],
   "source": [
    "# Preprocessing Input data\n",
    "data = pd.read_csv(r'D:\\ML training\\python\\headbrain.csv')\n",
    "\n",
    "# Collecting X and Y\n",
    "X = data['Head Size(cm^3)'].values/1000\n",
    "y = data['Brain Weight(grams)'].values/1000"
   ]
  },
  {
   "cell_type": "code",
   "execution_count": 36,
   "metadata": {},
   "outputs": [
    {
     "data": {
      "image/png": "[encoded data removed]",
      "text/plain": [
       "<Figure size 432x288 with 1 Axes>"
      ]
     },
     "metadata": {
      "needs_background": "light"
     },
     "output_type": "display_data"
    },
    {
     "name": "stdout",
     "output_type": "stream",
     "text": [
      "0.07525305106962135\n"
     ]
    }
   ],
   "source": [
    "clf = GradientDescentLinearRegression()\n",
    "clf.fit(X, y)\n",
    "time.sleep(2)\n",
    "plt.scatter(X, y, color='black')\n",
    "plt.plot(X, clf.predict(X))\n",
    "plt.xlabel('Head Size(cm^3)')  \n",
    "plt.ylabel('Brain Weight(grams)')  \n",
    "\n",
    "\n",
    "# displaying the title \n",
    "plt.title(\"Gradient Descent Linear Regressor\")\n",
    "plt.show()\n",
    "\n",
    "\n",
    "# Calculating Root Mean Squares Error\n",
    "rmse = clf.rmse(X)\n",
    "print(rmse)"
   ]
  },
  {
   "cell_type": "code",
   "execution_count": null,
   "metadata": {},
   "outputs": [],
   "source": []
  }
 ],
 "metadata": {
  "kernelspec": {
   "display_name": "Python 3",
   "language": "python",
   "name": "python3"
  },
  "language_info": {
   "codemirror_mode": {
    "name": "ipython",
    "version": 3
   },
   "file_extension": ".py",
   "mimetype": "text/x-python",
   "name": "python",
   "nbconvert_exporter": "python",
   "pygments_lexer": "ipython3",
   "version": "3.7.4"
  }
 },
 "nbformat": 4,
 "nbformat_minor": 2
}
