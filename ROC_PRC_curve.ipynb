{
 "cells": [
  {
   "cell_type": "markdown",
   "metadata": {},
   "source": [
    "# ROC and PRC Curve\n",
    "----------------------------------------"
   ]
  },
  {
   "cell_type": "markdown",
   "metadata": {},
   "source": [
    "- Both ROC and PRC Curve is used for checking the accuracy of binary classifiers.\n",
    "\n",
    "- ROC curve is used whenever we have balanced data(i.e. both labels and their data is balanced).\n",
    "\n",
    "- PRC(precision recall curve) is used wheneven we have inbalanced data.\n",
    "\n",
    "- AUC(Area under Curve) is used to check the validity of accuracy.\n",
    "\n",
    "- Here we plot ROC and PRC curve using the concept of thresholding. and the thresholding is actually the probability."
   ]
  },
  {
   "cell_type": "markdown",
   "metadata": {},
   "source": [
    "**import libraries**"
   ]
  },
  {
   "cell_type": "code",
   "execution_count": 1,
   "metadata": {},
   "outputs": [],
   "source": [
    "import numpy as np\n",
    "import pandas as pd\n",
    "import matplotlib.pyplot as plt\n",
    "\n",
    "# roc curve and auc score\n",
    "from sklearn.datasets import make_classification\n",
    "from sklearn.linear_model import LogisticRegression\n",
    "from sklearn.model_selection import train_test_split\n",
    "from sklearn.metrics import roc_curve\n",
    "from sklearn.metrics import roc_auc_score"
   ]
  },
  {
   "cell_type": "markdown",
   "metadata": {},
   "source": [
    "**To generate our own sample data we use make_classification method**"
   ]
  },
  {
   "cell_type": "code",
   "execution_count": 2,
   "metadata": {},
   "outputs": [],
   "source": [
    "data_x, class_label = make_classification(n_samples = 1000, n_classes = 2)"
   ]
  },
  {
   "cell_type": "code",
   "execution_count": 3,
   "metadata": {},
   "outputs": [
    {
     "name": "stdout",
     "output_type": "stream",
     "text": [
      "[[-0.62421037 -0.53490197  0.98479343 ... -0.46648341 -0.40896549\n",
      "  -0.32472063]\n",
      " [ 1.39292241 -1.57400465  0.49201201 ... -0.00274054 -0.71410531\n",
      "   1.57647177]\n",
      " [-0.25569104 -2.7136783  -1.3842227  ... -1.27398393  1.36479808\n",
      "  -0.25266628]\n",
      " ...\n",
      " [ 0.29707444 -0.59376771 -0.90990291 ... -1.76813614 -0.60300264\n",
      "  -0.21610157]\n",
      " [-0.90146748  0.07473784  0.73604044 ...  0.89886085 -1.94531457\n",
      "  -0.90727519]\n",
      " [ 1.30832962  0.12294731  0.43269035 ... -0.85020333  0.3014696\n",
      "   0.75934409]]\n"
     ]
    }
   ],
   "source": [
    "print(data_x)"
   ]
  },
  {
   "cell_type": "code",
   "execution_count": 4,
   "metadata": {},
   "outputs": [
    {
     "name": "stdout",
     "output_type": "stream",
     "text": [
      "[0 0 1 0 1 0 1 0 1 1 0 0 0 0 0 0 1 1 1 1 0 0 0 1 1 1 0 1 1 0 1 0 0 0 0 0 0\n",
      " 1 0 1 0 0 0 0 1 0 0 1 0 0 1 0 0 0 0 1 0 1 0 0 1 0 1 1 1 1 1 0 1 1 0 0 0 1\n",
      " 0 1 0 1 1 1 0 0 0 0 1 0 0 1 1 0 0 0 0 0 1 0 1 0 0 1 0 1 0 1 0 0 1 0 0 1 0\n",
      " 1 1 0 0 1 0 0 1 0 0 1 1 0 0 0 0 0 1 0 0 1 1 1 1 1 1 0 0 1 0 0 0 1 1 1 0 1\n",
      " 1 0 1 0 1 1 0 0 1 0 0 1 0 0 1 1 0 1 0 1 1 0 0 1 1 1 0 0 1 0 1 0 0 1 0 1 0\n",
      " 0 1 0 1 0 0 1 1 0 1 1 1 0 1 0 1 0 1 0 1 1 1 1 1 1 1 1 1 1 0 1 0 1 1 0 1 0\n",
      " 1 1 1 1 1 0 0 0 0 0 1 0 1 1 0 1 0 0 1 1 0 0 1 1 0 1 1 0 0 0 1 1 1 1 0 0 0\n",
      " 1 0 1 1 0 0 0 1 1 0 0 1 1 1 0 1 0 0 1 1 1 1 0 0 0 0 1 1 0 0 0 0 0 1 1 0 0\n",
      " 1 1 0 0 1 0 1 1 1 1 0 1 0 0 0 0 1 0 1 0 1 1 1 0 0 1 0 0 0 1 1 1 0 0 1 1 0\n",
      " 0 1 1 1 1 1 0 0 1 0 0 0 1 1 0 1 0 0 0 1 0 0 0 0 0 0 0 0 1 0 1 0 0 0 1 0 1\n",
      " 1 1 1 1 1 1 0 1 0 1 1 1 1 1 1 1 1 0 1 0 0 1 0 0 1 1 0 1 1 0 0 0 1 0 1 0 1\n",
      " 0 1 0 0 1 0 0 0 0 0 1 0 0 1 1 0 0 1 1 1 1 1 1 0 1 0 0 1 0 1 1 1 0 0 0 0 1\n",
      " 1 0 0 0 1 0 1 1 0 1 1 0 1 1 0 1 0 1 1 0 0 0 0 1 1 1 0 1 1 1 0 0 0 1 0 1 1\n",
      " 0 1 1 1 1 1 1 1 0 1 1 1 1 0 1 1 1 0 0 0 1 0 0 1 0 1 1 0 1 0 1 1 1 0 1 0 0\n",
      " 0 0 0 0 1 1 1 1 0 0 0 1 1 0 0 0 0 0 1 1 1 1 1 0 1 0 0 1 0 1 0 0 0 1 0 0 1\n",
      " 1 0 1 1 0 1 0 1 1 1 1 0 1 1 1 0 1 0 0 1 1 1 1 0 0 0 0 1 0 0 1 1 1 1 1 0 1\n",
      " 0 1 1 1 0 0 1 0 1 0 1 1 1 0 0 0 0 1 0 0 0 1 0 0 1 0 1 0 1 1 0 0 0 0 0 1 0\n",
      " 0 1 1 1 1 1 1 1 0 1 1 1 1 1 0 1 1 1 1 1 1 0 0 0 1 0 1 0 0 1 1 0 1 0 0 1 1\n",
      " 0 1 0 0 0 0 1 1 0 1 0 1 1 0 0 0 1 0 0 1 0 0 0 1 0 0 1 0 0 1 0 1 1 1 0 1 0\n",
      " 1 1 0 0 1 0 0 1 1 0 1 0 1 0 1 0 1 1 0 0 1 0 1 1 0 1 0 0 0 1 1 0 0 0 0 0 1\n",
      " 0 0 0 0 0 1 0 1 0 0 0 0 1 1 0 1 0 0 1 1 1 1 0 0 0 1 0 0 0 1 0 1 0 0 0 1 0\n",
      " 0 0 1 1 0 0 1 0 0 0 0 0 1 0 0 1 1 1 0 1 1 1 0 1 1 0 0 0 1 0 0 1 1 1 0 1 0\n",
      " 1 1 1 0 1 0 1 1 0 1 1 1 0 0 0 1 0 0 0 1 1 1 0 1 0 0 0 0 1 0 0 1 1 1 0 0 1\n",
      " 0 1 1 1 1 1 0 0 0 0 1 0 1 0 1 1 1 0 0 1 1 0 1 1 1 0 1 1 0 1 1 1 1 0 0 1 0\n",
      " 1 0 1 1 1 0 1 1 0 1 1 0 1 1 0 1 0 1 0 1 0 0 1 0 1 0 1 0 1 1 1 0 1 1 0 1 0\n",
      " 0 1 1 1 1 0 1 1 0 1 1 1 0 1 1 1 0 1 0 1 1 0 1 1 0 0 1 1 1 0 1 0 1 1 1 1 0\n",
      " 0 1 0 0 1 0 0 0 0 1 0 0 1 0 1 1 0 0 0 0 1 0 0 0 0 1 1 1 0 0 1 1 0 1 1 0 0\n",
      " 0]\n"
     ]
    }
   ],
   "source": [
    "print(class_label)"
   ]
  },
  {
   "cell_type": "markdown",
   "metadata": {},
   "source": [
    "**Split the data into train and test sub-datasets**"
   ]
  },
  {
   "cell_type": "code",
   "execution_count": 5,
   "metadata": {},
   "outputs": [],
   "source": [
    "trainx, testx, trainy, testy = train_test_split(data_x, class_label, test_size =0.2, random_state = 1)"
   ]
  },
  {
   "cell_type": "markdown",
   "metadata": {},
   "source": [
    "**Fit a model on the train data**"
   ]
  },
  {
   "cell_type": "code",
   "execution_count": 24,
   "metadata": {},
   "outputs": [
    {
     "name": "stderr",
     "output_type": "stream",
     "text": [
      "C:\\Users\\gupta\\Anaconda3\\lib\\site-packages\\sklearn\\linear_model\\logistic.py:432: FutureWarning: Default solver will be changed to 'lbfgs' in 0.22. Specify a solver to silence this warning.\n",
      "  FutureWarning)\n"
     ]
    },
    {
     "data": {
      "text/plain": [
       "LogisticRegression(C=1.0, class_weight=None, dual=False, fit_intercept=True,\n",
       "                   intercept_scaling=1, l1_ratio=None, max_iter=100,\n",
       "                   multi_class='warn', n_jobs=None, penalty='l2',\n",
       "                   random_state=None, solver='warn', tol=0.0001, verbose=0,\n",
       "                   warm_start=False)"
      ]
     },
     "execution_count": 24,
     "metadata": {},
     "output_type": "execute_result"
    }
   ],
   "source": [
    "model = LogisticRegression()\n",
    "model.fit(trainx, trainy)"
   ]
  },
  {
   "cell_type": "markdown",
   "metadata": {},
   "source": [
    "**predict probabilities/thresholds for the test data**"
   ]
  },
  {
   "cell_type": "code",
   "execution_count": 7,
   "metadata": {},
   "outputs": [],
   "source": [
    "probs = model.predict_proba(testx)"
   ]
  },
  {
   "cell_type": "markdown",
   "metadata": {},
   "source": [
    "**keep probabilities of the positive class only**"
   ]
  },
  {
   "cell_type": "code",
   "execution_count": 8,
   "metadata": {},
   "outputs": [],
   "source": [
    "probs = probs[:, 1]"
   ]
  },
  {
   "cell_type": "markdown",
   "metadata": {},
   "source": [
    "**compute the AUC score**"
   ]
  },
  {
   "cell_type": "code",
   "execution_count": 9,
   "metadata": {},
   "outputs": [
    {
     "name": "stdout",
     "output_type": "stream",
     "text": [
      "AUC : 0.97\n"
     ]
    }
   ],
   "source": [
    "auc = roc_auc_score(testy, probs)\n",
    "print('AUC : %.2f' %auc)"
   ]
  },
  {
   "cell_type": "markdown",
   "metadata": {},
   "source": [
    "**Defining a function to plot the ROC curve**"
   ]
  },
  {
   "cell_type": "code",
   "execution_count": 10,
   "metadata": {},
   "outputs": [],
   "source": [
    "def plot_roc_curve(fpr , tpr):\n",
    "    plt.plot(fpr , tpr , color = 'orange' , label = 'ROC')\n",
    "    plt.plot([0,1],[0,1], color = 'darkblue' , linestyle = \"--\")\n",
    "    plt.xlabel(\"False Positive Rate\")\n",
    "    plt.ylabel(\"True Positive Rate\")\n",
    "    plt.title(\"ROC- Receiver Operating Characteristic curve\")\n",
    "    plt.legend()\n",
    "    plt.show()"
   ]
  },
  {
   "cell_type": "code",
   "execution_count": 11,
   "metadata": {},
   "outputs": [],
   "source": [
    "fpr , tpr , thresholds = roc_curve(testy, probs)"
   ]
  },
  {
   "cell_type": "code",
   "execution_count": 12,
   "metadata": {},
   "outputs": [
    {
     "name": "stdout",
     "output_type": "stream",
     "text": [
      "[0.   0.   0.   0.01 0.01 0.02 0.02 0.03 0.03 0.04 0.04 0.05 0.05 0.06\n",
      " 0.06 0.07 0.07 0.1  0.1  0.15 0.15 0.43 0.43 1.  ]\n"
     ]
    }
   ],
   "source": [
    "# fpr value\n",
    "print(fpr)"
   ]
  },
  {
   "cell_type": "code",
   "execution_count": 13,
   "metadata": {},
   "outputs": [
    {
     "name": "stdout",
     "output_type": "stream",
     "text": [
      "[0.   0.01 0.12 0.12 0.28 0.28 0.62 0.62 0.71 0.71 0.91 0.91 0.92 0.92\n",
      " 0.95 0.95 0.96 0.96 0.97 0.97 0.99 0.99 1.   1.  ]\n"
     ]
    }
   ],
   "source": [
    "# tpr value\n",
    "print(tpr)"
   ]
  },
  {
   "cell_type": "code",
   "execution_count": 14,
   "metadata": {},
   "outputs": [
    {
     "name": "stdout",
     "output_type": "stream",
     "text": [
      "[1.99874452e+00 9.98744522e-01 9.90233473e-01 9.89435551e-01\n",
      " 9.67393631e-01 9.62800152e-01 8.74071715e-01 8.71951804e-01\n",
      " 8.47175757e-01 8.41311036e-01 6.45162068e-01 6.24823729e-01\n",
      " 6.21860831e-01 6.07266890e-01 5.38548226e-01 5.30378237e-01\n",
      " 5.18769605e-01 4.40895927e-01 4.31919981e-01 3.21049541e-01\n",
      " 3.14578920e-01 9.76831985e-02 9.38881204e-02 1.05633091e-03]\n"
     ]
    }
   ],
   "source": [
    "# threshold value\n",
    "print(thresholds)"
   ]
  },
  {
   "cell_type": "markdown",
   "metadata": {},
   "source": [
    "**plot ROC curve using user defined method**"
   ]
  },
  {
   "cell_type": "code",
   "execution_count": 22,
   "metadata": {},
   "outputs": [
    {
     "data": {
      "image/png": "[encoded data removed]",
      "text/plain": [
       "<Figure size 432x288 with 1 Axes>"
      ]
     },
     "metadata": {
      "needs_background": "light"
     },
     "output_type": "display_data"
    }
   ],
   "source": [
    "plot_roc_curve(fpr , tpr)"
   ]
  },
  {
   "cell_type": "code",
   "execution_count": 15,
   "metadata": {},
   "outputs": [],
   "source": [
    "from sklearn.metrics import precision_recall_curve"
   ]
  },
  {
   "cell_type": "code",
   "execution_count": 16,
   "metadata": {},
   "outputs": [],
   "source": [
    "precision, recall, thresholds  = precision_recall_curve(testy, probs)"
   ]
  },
  {
   "cell_type": "code",
   "execution_count": 22,
   "metadata": {},
   "outputs": [],
   "source": [
    "def plot_prc_curve(precision, recall):\n",
    "    plt.plot(recall, precision, color = 'blue', label = \"PRC\")\n",
    "    plt.xlabel('Recall')\n",
    "    plt.ylabel('Precision')\n",
    "    plt.title('PRC Curve')\n",
    "    plt.legend()\n",
    "    plt.show()"
   ]
  },
  {
   "cell_type": "code",
   "execution_count": 23,
   "metadata": {},
   "outputs": [
    {
     "data": {
      "image/png": "[encoded data removed]",
      "text/plain": [
       "<Figure size 432x288 with 1 Axes>"
      ]
     },
     "metadata": {
      "needs_background": "light"
     },
     "output_type": "display_data"
    }
   ],
   "source": [
    "plot_prc_curve(precision,  recall)"
   ]
  },
  {
   "cell_type": "code",
   "execution_count": null,
   "metadata": {},
   "outputs": [],
   "source": []
  }
 ],
 "metadata": {
  "kernelspec": {
   "display_name": "Python 3",
   "language": "python",
   "name": "python3"
  },
  "language_info": {
   "codemirror_mode": {
    "name": "ipython",
    "version": 3
   },
   "file_extension": ".py",
   "mimetype": "text/x-python",
   "name": "python",
   "nbconvert_exporter": "python",
   "pygments_lexer": "ipython3",
   "version": "3.7.4"
  }
 },
 "nbformat": 4,
 "nbformat_minor": 2
}
